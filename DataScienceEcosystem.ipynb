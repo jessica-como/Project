{
 "cells": [
  {
   "cell_type": "markdown",
   "id": "6a72c320",
   "metadata": {},
   "source": [
    "# Data Science Tools and Ecosystem "
   ]
  },
  {
   "cell_type": "markdown",
   "id": "114ffb95",
   "metadata": {},
   "source": [
    "In this notebook, Data Science Tools and Ecosystems are summarized."
   ]
  },
  {
   "cell_type": "markdown",
   "id": "95580bd7",
   "metadata": {},
   "source": [
    "**Objectives**\n",
    "- List popular langugages for Data Science\n",
    "- List popular libraries used in Data Science\n",
    "- List popular Data Science Tools "
   ]
  },
  {
   "cell_type": "markdown",
   "id": "1e955e88",
   "metadata": {},
   "source": [
    "Some of the popular languages that Data Scientists use are:\n",
    "1. Python\n",
    "2. SQL\n",
    "3. R\n",
    "4. C++\n"
   ]
  },
  {
   "cell_type": "markdown",
   "id": "f9976712",
   "metadata": {},
   "source": [
    "Some of the commonly used libraries used by Data Scientists include: \n",
    "1. Pandas\n",
    "2. NumPy\n",
    "3. MatPlotLib\n",
    "4. Plotly\n"
   ]
  },
  {
   "cell_type": "markdown",
   "id": "6075ac10",
   "metadata": {},
   "source": [
    "|Data Science Tools| \n",
    "|---|\n",
    "|RStudio|\n",
    "|Jupyter Notebook|\n",
    "|VS Code|"
   ]
  },
  {
   "cell_type": "markdown",
   "id": "8e40206f",
   "metadata": {},
   "source": [
    "### Below are a few examples of evaluating arithemetic expressions in Python. "
   ]
  },
  {
   "cell_type": "code",
   "execution_count": 1,
   "id": "ad8afb3e",
   "metadata": {},
   "outputs": [
    {
     "data": {
      "text/plain": [
       "17"
      ]
     },
     "execution_count": 1,
     "metadata": {},
     "output_type": "execute_result"
    }
   ],
   "source": [
    "#This is a simple arithmetic expression to multiply then add integers. \n",
    "(3*4)+5         "
   ]
  },
  {
   "cell_type": "code",
   "execution_count": 29,
   "id": "e5ee4113",
   "metadata": {},
   "outputs": [
    {
     "data": {
      "text/plain": [
       "3"
      ]
     },
     "execution_count": 29,
     "metadata": {},
     "output_type": "execute_result"
    }
   ],
   "source": [
    "#This will convert 200 minutes to hours by dividing by 60. \n",
    "200 // 60"
   ]
  },
  {
   "cell_type": "markdown",
   "id": "82068d46",
   "metadata": {},
   "source": [
    "## Author\n",
    "Jessica Como"
   ]
  }
 ],
 "metadata": {
  "kernelspec": {
   "display_name": "Python 3 (ipykernel)",
   "language": "python",
   "name": "python3"
  },
  "language_info": {
   "codemirror_mode": {
    "name": "ipython",
    "version": 3
   },
   "file_extension": ".py",
   "mimetype": "text/x-python",
   "name": "python",
   "nbconvert_exporter": "python",
   "pygments_lexer": "ipython3",
   "version": "3.7.1"
  }
 },
 "nbformat": 4,
 "nbformat_minor": 5
}
